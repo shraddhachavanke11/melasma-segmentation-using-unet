{
 "cells": [
  {
   "cell_type": "code",
   "execution_count": 9,
   "id": "04ddaf4e",
   "metadata": {},
   "outputs": [
    {
     "name": "stdout",
     "output_type": "stream",
     "text": [
      "Requirement already satisfied: Pillow in c:\\anaconda\\lib\\site-packages (9.4.0)\n",
      "Note: you may need to restart the kernel to use updated packages.\n"
     ]
    }
   ],
   "source": [
    "pip install Pillow\n"
   ]
  },
  {
   "cell_type": "code",
   "execution_count": 12,
   "id": "4b0ba825",
   "metadata": {},
   "outputs": [],
   "source": [
    "from PIL import Image\n",
    "import os\n",
    "\n",
    "directory = 'C:/Users/asus/Desktop/sem6/cvlab/imgmaskcvcp/melasma1_200/melasma1'  # Replace this with the path to your directory\n",
    "files = os.listdir(directory)\n",
    "\n",
    "# Resize the images\n",
    "for file_name in files:\n",
    "    image_path = os.path.join(directory, file_name)\n",
    "    \n",
    "    # Check if the file is an image (e.g., JPG or PNG)\n",
    "    if file_name.lower().endswith(('.jpg', '.jpeg', '.png')):\n",
    "        # Open the image\n",
    "        image = Image.open(image_path)\n",
    "        \n",
    "        # Convert the image to RGB mode (if it's not already in RGB mode)\n",
    "        if image.mode != 'RGB':\n",
    "            image = image.convert('RGB')\n",
    "        \n",
    "        # Resize the image to 256x256 pixels\n",
    "        resized_image = image.resize((256, 256))\n",
    "        \n",
    "        # Save the resized image with the same name\n",
    "        resized_image.save(image_path)\n",
    "        \n",
    "        print(f\"Resized '{file_name}'\")\n",
    "    else:\n",
    "        print(f\"Skipping non-image file: '{file_name}'\")\n"
   ]
  }
 ],
 "metadata": {
  "kernelspec": {
   "display_name": "Python 3 (ipykernel)",
   "language": "python",
   "name": "python3"
  },
  "language_info": {
   "codemirror_mode": {
    "name": "ipython",
    "version": 3
   },
   "file_extension": ".py",
   "mimetype": "text/x-python",
   "name": "python",
   "nbconvert_exporter": "python",
   "pygments_lexer": "ipython3",
   "version": "3.11.5"
  }
 },
 "nbformat": 4,
 "nbformat_minor": 5
}
