{
 "cells": [
  {
   "cell_type": "code",
   "execution_count": 2,
   "id": "a30ac4fc",
   "metadata": {},
   "outputs": [],
   "source": [
    "import numpy as np\n",
    "import cv2\n",
    "import json"
   ]
  },
  {
   "cell_type": "code",
   "execution_count": 4,
   "id": "a953a618",
   "metadata": {},
   "outputs": [
    {
     "name": "stdout",
     "output_type": "stream",
     "text": [
      "{'images': [{'file_name': '401.jpg', 'height': 400, 'width': 400, 'id': 1}, {'file_name': '403.jpg', 'height': 400, 'width': 400, 'id': 2}, {'file_name': '404.jpg', 'height': 400, 'width': 400, 'id': 3}, {'file_name': '405.jpg', 'height': 400, 'width': 400, 'id': 4}, {'file_name': '402.jpg', 'height': 400, 'width': 400, 'id': 5}], 'type': 'instances', 'annotations': [{'segmentation': [[144, 255, 143.99999645352375, 254.99999228119873, 143.99999645352375, 254.99999228119873, 176.99999547004714, 226.99999311566373, 235.99999371171018, 148.99999544024482, 260.99999296665214, 144.9999955594541, 260.99999296665214, 144.9999955594541, 260.99999296665214, 317.9999904036525, 200.99999475479143, 380.9999885261062, 152.99999618530285, 334.999989897013, 123.99999704957017, 302.9999908506873, 123.99999704957017, 302.9999908506873]], 'area': 19104.998698949876, 'iscrowd': 0, 'image_id': 1, 'bbox': [124, 145, 137, 236], 'category_id': 1, 'id': 1, 'ignore': 0}, {'segmentation': [[243, 232, 242.99999496340766, 231.9999929368498, 231.9999952912332, 188.99999421834963, 222.9999955594541, 75.99999758601196, 296.99999335408233, 70.99999773502357, 296.99999335408233, 70.99999773502357, 373.99999105930357, 246.99999248981499]], 'area': 17200.499399632245, 'iscrowd': 0, 'image_id': 2, 'bbox': [223, 71, 151, 176], 'category_id': 1, 'id': 1, 'ignore': 0}, {'segmentation': [[121, 300, 112.99999663233767, 197.99999409914034, 278.9999916851523, 229.99999314546605]], 'area': 8338.000187396989, 'iscrowd': 0, 'image_id': 3, 'bbox': [113, 198, 166, 102], 'category_id': 1, 'id': 1, 'ignore': 0}, {'segmentation': [[178, 256, 93.99999719858178, 154.99999538064017, 262.99999216198944, 78.9999976456166]], 'area': 11726.50014731286, 'iscrowd': 0, 'image_id': 4, 'bbox': [94, 79, 169, 177], 'category_id': 1, 'id': 1, 'ignore': 0}, {'segmentation': [[249, 253, 178.99999466538446, 181.9999945759775, 277.9999917149546, 164.99999508261695]], 'area': 4109.5001913606975, 'iscrowd': 0, 'image_id': 5, 'bbox': [179, 165, 99, 88], 'category_id': 1, 'id': 1, 'ignore': 0}], 'categories': [{'supercategory': 'none', 'id': 1, 'name': 'uncategorized'}]}\n"
     ]
    }
   ],
   "source": [
    "f=open(\"C:/Users/asus/Desktop/sem6/cvlab/imgmaskcvcp/codebookcvcp_melasmadetection/melasma1_200/5_coco_imglab (1).json\",\"r\")\n",
    "data=json.load(f)\n",
    "print(data)\n"
   ]
  },
  {
   "cell_type": "code",
   "execution_count": 5,
   "id": "dfc9f3fa",
   "metadata": {},
   "outputs": [],
   "source": [
    "img_dir=\"C:/Users/asus/Desktop/sem6/cvlab/imgmaskcvcp/codebookcvcp_melasmadetection/melasma1_200/testing\"\n",
    "mask_dir=\"C:/Users/asus/Desktop/sem6/cvlab/imgmaskcvcp/codebookcvcp_melasmadetection/melasma1_200/testingmask\""
   ]
  },
  {
   "cell_type": "code",
   "execution_count": 6,
   "id": "0d52ad7e",
   "metadata": {},
   "outputs": [],
   "source": [
    "images= data[\"images\"]\n",
    "annots= data[\"annotations\"]"
   ]
  },
  {
   "cell_type": "code",
   "execution_count": 6,
   "id": "6db56435",
   "metadata": {},
   "outputs": [
    {
     "name": "stdout",
     "output_type": "stream",
     "text": [
      "[{'file_name': '12_rescaled.jpeg', 'height': 400, 'width': 400, 'id': 1}, {'file_name': '17_rescaled.jpeg', 'height': 400, 'width': 400, 'id': 2}, {'file_name': '5_rescaled.jpeg', 'height': 400, 'width': 400, 'id': 3}, {'file_name': '8_rescaled.jpg', 'height': 400, 'width': 400, 'id': 4}, {'file_name': '6_rescaled.png', 'height': 400, 'width': 400, 'id': 5}]\n"
     ]
    }
   ],
   "source": [
    "print(images)\n",
    "#print(annots)"
   ]
  },
  {
   "cell_type": "code",
   "execution_count": 7,
   "id": "67992647",
   "metadata": {},
   "outputs": [],
   "source": [
    "for x,y in zip(images,annots):\n",
    "    filename= x[\"file_name\"]\n",
    "    h=x[\"height\"]\n",
    "    w=x[\"width\"]\n",
    "    \n",
    "    mask = np.zeros((h,w))\n",
    "    \n",
    "    seg =y[\"segmentation\"]\n",
    "    for points in seg:\n",
    "        contours =[]\n",
    "        \n",
    "        for i in range(0,len(points),2):\n",
    "            contours.append((points[i],points[i+1]))\n",
    "        \n",
    "        contours = np.array(contours,dtype=np.int32)\n",
    "        \n",
    "        cv2.drawContours(mask,[contours],-1,255,-1)\n",
    "    cv2.imwrite(f\"{mask_dir}/{filename}\",mask)"
   ]
  },
  {
   "cell_type": "code",
   "execution_count": null,
   "id": "8a2e002c",
   "metadata": {},
   "outputs": [],
   "source": []
  }
 ],
 "metadata": {
  "kernelspec": {
   "display_name": "Python 3 (ipykernel)",
   "language": "python",
   "name": "python3"
  },
  "language_info": {
   "codemirror_mode": {
    "name": "ipython",
    "version": 3
   },
   "file_extension": ".py",
   "mimetype": "text/x-python",
   "name": "python",
   "nbconvert_exporter": "python",
   "pygments_lexer": "ipython3",
   "version": "3.11.5"
  }
 },
 "nbformat": 4,
 "nbformat_minor": 5
}
