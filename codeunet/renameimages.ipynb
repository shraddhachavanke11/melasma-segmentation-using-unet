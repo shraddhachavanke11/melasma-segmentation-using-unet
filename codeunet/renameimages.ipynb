{
 "cells": [
  {
   "cell_type": "code",
   "execution_count": 18,
   "id": "dad88e85",
   "metadata": {},
   "outputs": [],
   "source": [
    "import os\n",
    "\n",
    "directory = r\"C:/Users/asus/Desktop/melasmafinal/shraddhamodifieddataset/finalimage\"  # Replace this with the path to your directory\n",
    "files = os.listdir(directory)\n",
    "files.sort()  # Sort the files in alphabetical order\n",
    "\n",
    "# Rename the files\n",
    "for i, file_name in enumerate(files, start=1):  # Start counting from 1\n",
    "    new_name = f'{i}.jpg'  # Assuming the images have a .jpg extension\n",
    "    new_path = os.path.join(directory, new_name)\n",
    "    \n",
    "    # Check if the new file name already exists\n",
    "    if not os.path.exists(new_path):\n",
    "        os.rename(os.path.join(directory, file_name), new_path)\n",
    "    else:\n",
    "        print(f\"Error: File '{new_name}' already exists.\")\n"
   ]
  },
  {
   "cell_type": "code",
   "execution_count": null,
   "id": "9c34e79e",
   "metadata": {},
   "outputs": [],
   "source": []
  },
  {
   "cell_type": "code",
   "execution_count": null,
   "id": "cdcb8e7d",
   "metadata": {},
   "outputs": [],
   "source": []
  }
 ],
 "metadata": {
  "kernelspec": {
   "display_name": "Python 3 (ipykernel)",
   "language": "python",
   "name": "python3"
  },
  "language_info": {
   "codemirror_mode": {
    "name": "ipython",
    "version": 3
   },
   "file_extension": ".py",
   "mimetype": "text/x-python",
   "name": "python",
   "nbconvert_exporter": "python",
   "pygments_lexer": "ipython3",
   "version": "3.11.5"
  }
 },
 "nbformat": 4,
 "nbformat_minor": 5
}
