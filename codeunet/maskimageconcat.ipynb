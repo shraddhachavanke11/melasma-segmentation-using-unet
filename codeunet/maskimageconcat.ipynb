{
 "cells": [
  {
   "cell_type": "code",
   "execution_count": 2,
   "id": "ac1248e0",
   "metadata": {},
   "outputs": [],
   "source": [
    "import os\n",
    "import numpy as np \n",
    "import cv2 \n",
    "from tqdm import tqdm"
   ]
  },
  {
   "cell_type": "code",
   "execution_count": 27,
   "id": "0f2b2b5d",
   "metadata": {},
   "outputs": [],
   "source": [
    "#image_names = os.listdir(\"C:/Users/asus/Desktop/melasmafinal/shraddhamodifieddataset/finalimage\")"
   ]
  },
  {
   "cell_type": "code",
   "execution_count": 29,
   "id": "927fd145",
   "metadata": {},
   "outputs": [],
   "source": [
    "#print(image_names)"
   ]
  },
  {
   "cell_type": "code",
   "execution_count": 3,
   "id": "fd1d15ac",
   "metadata": {},
   "outputs": [
    {
     "name": "stderr",
     "output_type": "stream",
     "text": [
      "100%|████████████████████████████████████████████████████████████████████████████████| 229/229 [00:03<00:00, 60.58it/s]\n"
     ]
    }
   ],
   "source": [
    "image_names = os.listdir(\"C:/Users/asus/Desktop/melasmafinal/shraddhamodifieddataset/final/images\")\n",
    "for name in tqdm(image_names):\n",
    "    image_path = f\"C:/Users/asus/Desktop/melasmafinal/shraddhamodifieddataset/final/images/{name}\"\n",
    "    mask_path = f\"C:/Users/asus/Desktop/melasmafinal/shraddhamodifieddataset/final/masks/{name}\"\n",
    "\n",
    "    x = cv2.imread(image_path, cv2.IMREAD_COLOR)\n",
    "    y = cv2.imread(mask_path, cv2.IMREAD_COLOR)\n",
    "\n",
    "    # Check if x and y are not None\n",
    "    if x is not None and y is not None:\n",
    "        line = np.ones((x.shape[0], 10, 3)) * 255.0\n",
    "        f_img = x * (y / 255.0)\n",
    "        b_img = x * (1 - y / 255.0)\n",
    "\n",
    "        cat_img = np.concatenate([x, line, y, line, f_img, line, b_img], axis=1)\n",
    "        cv2.imwrite(f\"C:/Users/asus/Desktop/melasmafinal/shraddhamodifieddataset/final/cat/{name}\", cat_img)\n",
    "    else:\n",
    "        print(f\"Error reading {image_path} or {mask_path}\")"
   ]
  },
  {
   "cell_type": "code",
   "execution_count": null,
   "id": "7d131cfa",
   "metadata": {},
   "outputs": [],
   "source": []
  }
 ],
 "metadata": {
  "kernelspec": {
   "display_name": "Python 3 (ipykernel)",
   "language": "python",
   "name": "python3"
  },
  "language_info": {
   "codemirror_mode": {
    "name": "ipython",
    "version": 3
   },
   "file_extension": ".py",
   "mimetype": "text/x-python",
   "name": "python",
   "nbconvert_exporter": "python",
   "pygments_lexer": "ipython3",
   "version": "3.11.5"
  }
 },
 "nbformat": 4,
 "nbformat_minor": 5
}
