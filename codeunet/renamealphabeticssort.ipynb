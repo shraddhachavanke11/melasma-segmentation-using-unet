{
 "cells": [
  {
   "cell_type": "code",
   "execution_count": 12,
   "id": "2b663261",
   "metadata": {},
   "outputs": [],
   "source": [
    "import os\n",
    "\n",
    "def convert_to_alphabetic(number):\n",
    "    \"\"\"\n",
    "    Convert a number to an alphabetic representation.\n",
    "    For example: 1 -> 'a', 2 -> 'b', ..., 26 -> 'z', 27 -> 'aa', and so on.\n",
    "    \"\"\"\n",
    "    alphabet = 'abcdefghijklmnopqrstuvwxyz'\n",
    "    if number <= 26:\n",
    "        return alphabet[number - 1]\n",
    "    else:\n",
    "        div, mod = divmod(number - 1, 26)\n",
    "        return convert_to_alphabetic(div) + alphabet[mod]\n",
    "\n",
    "# Path to the directory containing the images\n",
    "directory = \"C:/Users/asus/Desktop/melasmafinal/shraddhamodifieddataset/final/masks\"\n",
    "\n",
    "# List all files in the directory\n",
    "files = os.listdir(directory)\n",
    "\n",
    "# Sort files by numerical order\n",
    "files.sort(key=lambda x: int(x.split('.')[0]))\n",
    "\n",
    "# Rename files following the pattern\n",
    "for i, filename in enumerate(files, start=1):\n",
    "    new_name = convert_to_alphabetic(i) + '.' + filename.split('.')[-1]\n",
    "    os.rename(os.path.join(directory, filename), os.path.join(directory, new_name))\n"
   ]
  },
  {
   "cell_type": "code",
   "execution_count": null,
   "id": "5c3399b9",
   "metadata": {},
   "outputs": [],
   "source": []
  }
 ],
 "metadata": {
  "kernelspec": {
   "display_name": "Python 3 (ipykernel)",
   "language": "python",
   "name": "python3"
  },
  "language_info": {
   "codemirror_mode": {
    "name": "ipython",
    "version": 3
   },
   "file_extension": ".py",
   "mimetype": "text/x-python",
   "name": "python",
   "nbconvert_exporter": "python",
   "pygments_lexer": "ipython3",
   "version": "3.11.5"
  }
 },
 "nbformat": 4,
 "nbformat_minor": 5
}
